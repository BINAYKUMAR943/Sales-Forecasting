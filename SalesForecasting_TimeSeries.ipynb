{
 "cells": [
  {
   "cell_type": "code",
   "execution_count": 3,
   "id": "62fc9421",
   "metadata": {},
   "outputs": [
    {
     "data": {
      "text/plain": [
       "<Figure size 640x480 with 0 Axes>"
      ]
     },
     "metadata": {},
     "output_type": "display_data"
    }
   ],
   "source": [
    "import pandas as pd\n",
    "import matplotlib.pyplot as plt\n",
    "from matplotlib.pyplot import figure\n",
    "\n",
    "figure(figsize=(8, 6), dpi=80)\n",
    "import matplotlib\n",
    "import warnings\n",
    "import itertools\n",
    "import numpy as np\n",
    "warnings.filterwarnings(\"ignore\")\n",
    "#plt.style.use('fivethirtyeight')\n",
    "import statsmodels.api as sm\n",
    "\n",
    "matplotlib.rcParams['axes.labelsize']=14\n",
    "matplotlib.rcParams['xtick.labelsize']=12\n",
    "matplotlib.rcParams['ytick.labelsize']=12\n",
    "matplotlib.rcParams['text.color']='k'\n",
    "\n",
    "\n"
   ]
  },
  {
   "cell_type": "code",
   "execution_count": 4,
   "id": "46298db6",
   "metadata": {},
   "outputs": [],
   "source": [
    "df=pd.read_csv(\"D:/UEA/Kaggle Practice/SalesForecasting/train.csv\")"
   ]
  },
  {
   "cell_type": "code",
   "execution_count": 5,
   "id": "e194e760",
   "metadata": {},
   "outputs": [
    {
     "data": {
      "text/html": [
       "<div>\n",
       "<style scoped>\n",
       "    .dataframe tbody tr th:only-of-type {\n",
       "        vertical-align: middle;\n",
       "    }\n",
       "\n",
       "    .dataframe tbody tr th {\n",
       "        vertical-align: top;\n",
       "    }\n",
       "\n",
       "    .dataframe thead th {\n",
       "        text-align: right;\n",
       "    }\n",
       "</style>\n",
       "<table border=\"1\" class=\"dataframe\">\n",
       "  <thead>\n",
       "    <tr style=\"text-align: right;\">\n",
       "      <th></th>\n",
       "      <th>Row ID</th>\n",
       "      <th>Order ID</th>\n",
       "      <th>Order Date</th>\n",
       "      <th>Ship Date</th>\n",
       "      <th>Ship Mode</th>\n",
       "      <th>Customer ID</th>\n",
       "      <th>Customer Name</th>\n",
       "      <th>Segment</th>\n",
       "      <th>Country</th>\n",
       "      <th>City</th>\n",
       "      <th>State</th>\n",
       "      <th>Postal Code</th>\n",
       "      <th>Region</th>\n",
       "      <th>Product ID</th>\n",
       "      <th>Category</th>\n",
       "      <th>Sub-Category</th>\n",
       "      <th>Product Name</th>\n",
       "      <th>Sales</th>\n",
       "    </tr>\n",
       "  </thead>\n",
       "  <tbody>\n",
       "    <tr>\n",
       "      <th>0</th>\n",
       "      <td>1</td>\n",
       "      <td>CA-2017-152156</td>\n",
       "      <td>08/11/2017</td>\n",
       "      <td>11/11/2017</td>\n",
       "      <td>Second Class</td>\n",
       "      <td>CG-12520</td>\n",
       "      <td>Claire Gute</td>\n",
       "      <td>Consumer</td>\n",
       "      <td>United States</td>\n",
       "      <td>Henderson</td>\n",
       "      <td>Kentucky</td>\n",
       "      <td>42420.0</td>\n",
       "      <td>South</td>\n",
       "      <td>FUR-BO-10001798</td>\n",
       "      <td>Furniture</td>\n",
       "      <td>Bookcases</td>\n",
       "      <td>Bush Somerset Collection Bookcase</td>\n",
       "      <td>261.9600</td>\n",
       "    </tr>\n",
       "    <tr>\n",
       "      <th>1</th>\n",
       "      <td>2</td>\n",
       "      <td>CA-2017-152156</td>\n",
       "      <td>08/11/2017</td>\n",
       "      <td>11/11/2017</td>\n",
       "      <td>Second Class</td>\n",
       "      <td>CG-12520</td>\n",
       "      <td>Claire Gute</td>\n",
       "      <td>Consumer</td>\n",
       "      <td>United States</td>\n",
       "      <td>Henderson</td>\n",
       "      <td>Kentucky</td>\n",
       "      <td>42420.0</td>\n",
       "      <td>South</td>\n",
       "      <td>FUR-CH-10000454</td>\n",
       "      <td>Furniture</td>\n",
       "      <td>Chairs</td>\n",
       "      <td>Hon Deluxe Fabric Upholstered Stacking Chairs,...</td>\n",
       "      <td>731.9400</td>\n",
       "    </tr>\n",
       "    <tr>\n",
       "      <th>2</th>\n",
       "      <td>3</td>\n",
       "      <td>CA-2017-138688</td>\n",
       "      <td>12/06/2017</td>\n",
       "      <td>16/06/2017</td>\n",
       "      <td>Second Class</td>\n",
       "      <td>DV-13045</td>\n",
       "      <td>Darrin Van Huff</td>\n",
       "      <td>Corporate</td>\n",
       "      <td>United States</td>\n",
       "      <td>Los Angeles</td>\n",
       "      <td>California</td>\n",
       "      <td>90036.0</td>\n",
       "      <td>West</td>\n",
       "      <td>OFF-LA-10000240</td>\n",
       "      <td>Office Supplies</td>\n",
       "      <td>Labels</td>\n",
       "      <td>Self-Adhesive Address Labels for Typewriters b...</td>\n",
       "      <td>14.6200</td>\n",
       "    </tr>\n",
       "    <tr>\n",
       "      <th>3</th>\n",
       "      <td>4</td>\n",
       "      <td>US-2016-108966</td>\n",
       "      <td>11/10/2016</td>\n",
       "      <td>18/10/2016</td>\n",
       "      <td>Standard Class</td>\n",
       "      <td>SO-20335</td>\n",
       "      <td>Sean O'Donnell</td>\n",
       "      <td>Consumer</td>\n",
       "      <td>United States</td>\n",
       "      <td>Fort Lauderdale</td>\n",
       "      <td>Florida</td>\n",
       "      <td>33311.0</td>\n",
       "      <td>South</td>\n",
       "      <td>FUR-TA-10000577</td>\n",
       "      <td>Furniture</td>\n",
       "      <td>Tables</td>\n",
       "      <td>Bretford CR4500 Series Slim Rectangular Table</td>\n",
       "      <td>957.5775</td>\n",
       "    </tr>\n",
       "    <tr>\n",
       "      <th>4</th>\n",
       "      <td>5</td>\n",
       "      <td>US-2016-108966</td>\n",
       "      <td>11/10/2016</td>\n",
       "      <td>18/10/2016</td>\n",
       "      <td>Standard Class</td>\n",
       "      <td>SO-20335</td>\n",
       "      <td>Sean O'Donnell</td>\n",
       "      <td>Consumer</td>\n",
       "      <td>United States</td>\n",
       "      <td>Fort Lauderdale</td>\n",
       "      <td>Florida</td>\n",
       "      <td>33311.0</td>\n",
       "      <td>South</td>\n",
       "      <td>OFF-ST-10000760</td>\n",
       "      <td>Office Supplies</td>\n",
       "      <td>Storage</td>\n",
       "      <td>Eldon Fold 'N Roll Cart System</td>\n",
       "      <td>22.3680</td>\n",
       "    </tr>\n",
       "  </tbody>\n",
       "</table>\n",
       "</div>"
      ],
      "text/plain": [
       "   Row ID        Order ID  Order Date   Ship Date       Ship Mode Customer ID  \\\n",
       "0       1  CA-2017-152156  08/11/2017  11/11/2017    Second Class    CG-12520   \n",
       "1       2  CA-2017-152156  08/11/2017  11/11/2017    Second Class    CG-12520   \n",
       "2       3  CA-2017-138688  12/06/2017  16/06/2017    Second Class    DV-13045   \n",
       "3       4  US-2016-108966  11/10/2016  18/10/2016  Standard Class    SO-20335   \n",
       "4       5  US-2016-108966  11/10/2016  18/10/2016  Standard Class    SO-20335   \n",
       "\n",
       "     Customer Name    Segment        Country             City       State  \\\n",
       "0      Claire Gute   Consumer  United States        Henderson    Kentucky   \n",
       "1      Claire Gute   Consumer  United States        Henderson    Kentucky   \n",
       "2  Darrin Van Huff  Corporate  United States      Los Angeles  California   \n",
       "3   Sean O'Donnell   Consumer  United States  Fort Lauderdale     Florida   \n",
       "4   Sean O'Donnell   Consumer  United States  Fort Lauderdale     Florida   \n",
       "\n",
       "   Postal Code Region       Product ID         Category Sub-Category  \\\n",
       "0      42420.0  South  FUR-BO-10001798        Furniture    Bookcases   \n",
       "1      42420.0  South  FUR-CH-10000454        Furniture       Chairs   \n",
       "2      90036.0   West  OFF-LA-10000240  Office Supplies       Labels   \n",
       "3      33311.0  South  FUR-TA-10000577        Furniture       Tables   \n",
       "4      33311.0  South  OFF-ST-10000760  Office Supplies      Storage   \n",
       "\n",
       "                                        Product Name     Sales  \n",
       "0                  Bush Somerset Collection Bookcase  261.9600  \n",
       "1  Hon Deluxe Fabric Upholstered Stacking Chairs,...  731.9400  \n",
       "2  Self-Adhesive Address Labels for Typewriters b...   14.6200  \n",
       "3      Bretford CR4500 Series Slim Rectangular Table  957.5775  \n",
       "4                     Eldon Fold 'N Roll Cart System   22.3680  "
      ]
     },
     "execution_count": 5,
     "metadata": {},
     "output_type": "execute_result"
    }
   ],
   "source": [
    "df.head(5)"
   ]
  },
  {
   "cell_type": "code",
   "execution_count": 5,
   "id": "51c12497",
   "metadata": {},
   "outputs": [],
   "source": [
    "#Time series Forecasting for furniture sales"
   ]
  },
  {
   "cell_type": "code",
   "execution_count": 6,
   "id": "f67b8fdf",
   "metadata": {},
   "outputs": [],
   "source": [
    "df_furniture=df.loc[df['Category']=='Furniture']"
   ]
  },
  {
   "cell_type": "code",
   "execution_count": 7,
   "id": "1d23c0e9",
   "metadata": {},
   "outputs": [
    {
     "data": {
      "text/html": [
       "<div>\n",
       "<style scoped>\n",
       "    .dataframe tbody tr th:only-of-type {\n",
       "        vertical-align: middle;\n",
       "    }\n",
       "\n",
       "    .dataframe tbody tr th {\n",
       "        vertical-align: top;\n",
       "    }\n",
       "\n",
       "    .dataframe thead th {\n",
       "        text-align: right;\n",
       "    }\n",
       "</style>\n",
       "<table border=\"1\" class=\"dataframe\">\n",
       "  <thead>\n",
       "    <tr style=\"text-align: right;\">\n",
       "      <th></th>\n",
       "      <th>Row ID</th>\n",
       "      <th>Order ID</th>\n",
       "      <th>Order Date</th>\n",
       "      <th>Ship Date</th>\n",
       "      <th>Ship Mode</th>\n",
       "      <th>Customer ID</th>\n",
       "      <th>Customer Name</th>\n",
       "      <th>Segment</th>\n",
       "      <th>Country</th>\n",
       "      <th>City</th>\n",
       "      <th>State</th>\n",
       "      <th>Postal Code</th>\n",
       "      <th>Region</th>\n",
       "      <th>Product ID</th>\n",
       "      <th>Category</th>\n",
       "      <th>Sub-Category</th>\n",
       "      <th>Product Name</th>\n",
       "      <th>Sales</th>\n",
       "    </tr>\n",
       "  </thead>\n",
       "  <tbody>\n",
       "    <tr>\n",
       "      <th>0</th>\n",
       "      <td>1</td>\n",
       "      <td>CA-2017-152156</td>\n",
       "      <td>08/11/2017</td>\n",
       "      <td>11/11/2017</td>\n",
       "      <td>Second Class</td>\n",
       "      <td>CG-12520</td>\n",
       "      <td>Claire Gute</td>\n",
       "      <td>Consumer</td>\n",
       "      <td>United States</td>\n",
       "      <td>Henderson</td>\n",
       "      <td>Kentucky</td>\n",
       "      <td>42420.0</td>\n",
       "      <td>South</td>\n",
       "      <td>FUR-BO-10001798</td>\n",
       "      <td>Furniture</td>\n",
       "      <td>Bookcases</td>\n",
       "      <td>Bush Somerset Collection Bookcase</td>\n",
       "      <td>261.9600</td>\n",
       "    </tr>\n",
       "    <tr>\n",
       "      <th>1</th>\n",
       "      <td>2</td>\n",
       "      <td>CA-2017-152156</td>\n",
       "      <td>08/11/2017</td>\n",
       "      <td>11/11/2017</td>\n",
       "      <td>Second Class</td>\n",
       "      <td>CG-12520</td>\n",
       "      <td>Claire Gute</td>\n",
       "      <td>Consumer</td>\n",
       "      <td>United States</td>\n",
       "      <td>Henderson</td>\n",
       "      <td>Kentucky</td>\n",
       "      <td>42420.0</td>\n",
       "      <td>South</td>\n",
       "      <td>FUR-CH-10000454</td>\n",
       "      <td>Furniture</td>\n",
       "      <td>Chairs</td>\n",
       "      <td>Hon Deluxe Fabric Upholstered Stacking Chairs,...</td>\n",
       "      <td>731.9400</td>\n",
       "    </tr>\n",
       "    <tr>\n",
       "      <th>3</th>\n",
       "      <td>4</td>\n",
       "      <td>US-2016-108966</td>\n",
       "      <td>11/10/2016</td>\n",
       "      <td>18/10/2016</td>\n",
       "      <td>Standard Class</td>\n",
       "      <td>SO-20335</td>\n",
       "      <td>Sean O'Donnell</td>\n",
       "      <td>Consumer</td>\n",
       "      <td>United States</td>\n",
       "      <td>Fort Lauderdale</td>\n",
       "      <td>Florida</td>\n",
       "      <td>33311.0</td>\n",
       "      <td>South</td>\n",
       "      <td>FUR-TA-10000577</td>\n",
       "      <td>Furniture</td>\n",
       "      <td>Tables</td>\n",
       "      <td>Bretford CR4500 Series Slim Rectangular Table</td>\n",
       "      <td>957.5775</td>\n",
       "    </tr>\n",
       "    <tr>\n",
       "      <th>5</th>\n",
       "      <td>6</td>\n",
       "      <td>CA-2015-115812</td>\n",
       "      <td>09/06/2015</td>\n",
       "      <td>14/06/2015</td>\n",
       "      <td>Standard Class</td>\n",
       "      <td>BH-11710</td>\n",
       "      <td>Brosina Hoffman</td>\n",
       "      <td>Consumer</td>\n",
       "      <td>United States</td>\n",
       "      <td>Los Angeles</td>\n",
       "      <td>California</td>\n",
       "      <td>90032.0</td>\n",
       "      <td>West</td>\n",
       "      <td>FUR-FU-10001487</td>\n",
       "      <td>Furniture</td>\n",
       "      <td>Furnishings</td>\n",
       "      <td>Eldon Expressions Wood and Plastic Desk Access...</td>\n",
       "      <td>48.8600</td>\n",
       "    </tr>\n",
       "    <tr>\n",
       "      <th>10</th>\n",
       "      <td>11</td>\n",
       "      <td>CA-2015-115812</td>\n",
       "      <td>09/06/2015</td>\n",
       "      <td>14/06/2015</td>\n",
       "      <td>Standard Class</td>\n",
       "      <td>BH-11710</td>\n",
       "      <td>Brosina Hoffman</td>\n",
       "      <td>Consumer</td>\n",
       "      <td>United States</td>\n",
       "      <td>Los Angeles</td>\n",
       "      <td>California</td>\n",
       "      <td>90032.0</td>\n",
       "      <td>West</td>\n",
       "      <td>FUR-TA-10001539</td>\n",
       "      <td>Furniture</td>\n",
       "      <td>Tables</td>\n",
       "      <td>Chromcraft Rectangular Conference Tables</td>\n",
       "      <td>1706.1840</td>\n",
       "    </tr>\n",
       "    <tr>\n",
       "      <th>...</th>\n",
       "      <td>...</td>\n",
       "      <td>...</td>\n",
       "      <td>...</td>\n",
       "      <td>...</td>\n",
       "      <td>...</td>\n",
       "      <td>...</td>\n",
       "      <td>...</td>\n",
       "      <td>...</td>\n",
       "      <td>...</td>\n",
       "      <td>...</td>\n",
       "      <td>...</td>\n",
       "      <td>...</td>\n",
       "      <td>...</td>\n",
       "      <td>...</td>\n",
       "      <td>...</td>\n",
       "      <td>...</td>\n",
       "      <td>...</td>\n",
       "      <td>...</td>\n",
       "    </tr>\n",
       "    <tr>\n",
       "      <th>9786</th>\n",
       "      <td>9787</td>\n",
       "      <td>US-2015-114377</td>\n",
       "      <td>05/11/2015</td>\n",
       "      <td>05/11/2015</td>\n",
       "      <td>Same Day</td>\n",
       "      <td>BG-11035</td>\n",
       "      <td>Barry Gonzalez</td>\n",
       "      <td>Consumer</td>\n",
       "      <td>United States</td>\n",
       "      <td>Hampton</td>\n",
       "      <td>Virginia</td>\n",
       "      <td>23666.0</td>\n",
       "      <td>South</td>\n",
       "      <td>FUR-CH-10004754</td>\n",
       "      <td>Furniture</td>\n",
       "      <td>Chairs</td>\n",
       "      <td>Global Stack Chair with Arms, Black</td>\n",
       "      <td>149.9000</td>\n",
       "    </tr>\n",
       "    <tr>\n",
       "      <th>9787</th>\n",
       "      <td>9788</td>\n",
       "      <td>CA-2018-144491</td>\n",
       "      <td>27/03/2018</td>\n",
       "      <td>01/04/2018</td>\n",
       "      <td>Standard Class</td>\n",
       "      <td>CJ-12010</td>\n",
       "      <td>Caroline Jumper</td>\n",
       "      <td>Consumer</td>\n",
       "      <td>United States</td>\n",
       "      <td>Houston</td>\n",
       "      <td>Texas</td>\n",
       "      <td>77070.0</td>\n",
       "      <td>Central</td>\n",
       "      <td>FUR-BO-10001811</td>\n",
       "      <td>Furniture</td>\n",
       "      <td>Bookcases</td>\n",
       "      <td>Atlantic Metals Mobile 5-Shelf Bookcases, Cust...</td>\n",
       "      <td>1023.3320</td>\n",
       "    </tr>\n",
       "    <tr>\n",
       "      <th>9788</th>\n",
       "      <td>9789</td>\n",
       "      <td>CA-2018-144491</td>\n",
       "      <td>27/03/2018</td>\n",
       "      <td>01/04/2018</td>\n",
       "      <td>Standard Class</td>\n",
       "      <td>CJ-12010</td>\n",
       "      <td>Caroline Jumper</td>\n",
       "      <td>Consumer</td>\n",
       "      <td>United States</td>\n",
       "      <td>Houston</td>\n",
       "      <td>Texas</td>\n",
       "      <td>77070.0</td>\n",
       "      <td>Central</td>\n",
       "      <td>FUR-CH-10004063</td>\n",
       "      <td>Furniture</td>\n",
       "      <td>Chairs</td>\n",
       "      <td>Global Deluxe High-Back Manager's Chair</td>\n",
       "      <td>600.5580</td>\n",
       "    </tr>\n",
       "    <tr>\n",
       "      <th>9790</th>\n",
       "      <td>9791</td>\n",
       "      <td>CA-2018-144491</td>\n",
       "      <td>27/03/2018</td>\n",
       "      <td>01/04/2018</td>\n",
       "      <td>Standard Class</td>\n",
       "      <td>CJ-12010</td>\n",
       "      <td>Caroline Jumper</td>\n",
       "      <td>Consumer</td>\n",
       "      <td>United States</td>\n",
       "      <td>Houston</td>\n",
       "      <td>Texas</td>\n",
       "      <td>77070.0</td>\n",
       "      <td>Central</td>\n",
       "      <td>FUR-CH-10001714</td>\n",
       "      <td>Furniture</td>\n",
       "      <td>Chairs</td>\n",
       "      <td>Global Leather &amp; Oak Executive Chair, Burgundy</td>\n",
       "      <td>211.2460</td>\n",
       "    </tr>\n",
       "    <tr>\n",
       "      <th>9792</th>\n",
       "      <td>9793</td>\n",
       "      <td>CA-2015-127166</td>\n",
       "      <td>21/05/2015</td>\n",
       "      <td>23/05/2015</td>\n",
       "      <td>Second Class</td>\n",
       "      <td>KH-16360</td>\n",
       "      <td>Katherine Hughes</td>\n",
       "      <td>Consumer</td>\n",
       "      <td>United States</td>\n",
       "      <td>Houston</td>\n",
       "      <td>Texas</td>\n",
       "      <td>77070.0</td>\n",
       "      <td>Central</td>\n",
       "      <td>FUR-CH-10003396</td>\n",
       "      <td>Furniture</td>\n",
       "      <td>Chairs</td>\n",
       "      <td>Global Deluxe Steno Chair</td>\n",
       "      <td>107.7720</td>\n",
       "    </tr>\n",
       "  </tbody>\n",
       "</table>\n",
       "<p>2078 rows × 18 columns</p>\n",
       "</div>"
      ],
      "text/plain": [
       "      Row ID        Order ID  Order Date   Ship Date       Ship Mode  \\\n",
       "0          1  CA-2017-152156  08/11/2017  11/11/2017    Second Class   \n",
       "1          2  CA-2017-152156  08/11/2017  11/11/2017    Second Class   \n",
       "3          4  US-2016-108966  11/10/2016  18/10/2016  Standard Class   \n",
       "5          6  CA-2015-115812  09/06/2015  14/06/2015  Standard Class   \n",
       "10        11  CA-2015-115812  09/06/2015  14/06/2015  Standard Class   \n",
       "...      ...             ...         ...         ...             ...   \n",
       "9786    9787  US-2015-114377  05/11/2015  05/11/2015        Same Day   \n",
       "9787    9788  CA-2018-144491  27/03/2018  01/04/2018  Standard Class   \n",
       "9788    9789  CA-2018-144491  27/03/2018  01/04/2018  Standard Class   \n",
       "9790    9791  CA-2018-144491  27/03/2018  01/04/2018  Standard Class   \n",
       "9792    9793  CA-2015-127166  21/05/2015  23/05/2015    Second Class   \n",
       "\n",
       "     Customer ID     Customer Name   Segment        Country             City  \\\n",
       "0       CG-12520       Claire Gute  Consumer  United States        Henderson   \n",
       "1       CG-12520       Claire Gute  Consumer  United States        Henderson   \n",
       "3       SO-20335    Sean O'Donnell  Consumer  United States  Fort Lauderdale   \n",
       "5       BH-11710   Brosina Hoffman  Consumer  United States      Los Angeles   \n",
       "10      BH-11710   Brosina Hoffman  Consumer  United States      Los Angeles   \n",
       "...          ...               ...       ...            ...              ...   \n",
       "9786    BG-11035    Barry Gonzalez  Consumer  United States          Hampton   \n",
       "9787    CJ-12010   Caroline Jumper  Consumer  United States          Houston   \n",
       "9788    CJ-12010   Caroline Jumper  Consumer  United States          Houston   \n",
       "9790    CJ-12010   Caroline Jumper  Consumer  United States          Houston   \n",
       "9792    KH-16360  Katherine Hughes  Consumer  United States          Houston   \n",
       "\n",
       "           State  Postal Code   Region       Product ID   Category  \\\n",
       "0       Kentucky      42420.0    South  FUR-BO-10001798  Furniture   \n",
       "1       Kentucky      42420.0    South  FUR-CH-10000454  Furniture   \n",
       "3        Florida      33311.0    South  FUR-TA-10000577  Furniture   \n",
       "5     California      90032.0     West  FUR-FU-10001487  Furniture   \n",
       "10    California      90032.0     West  FUR-TA-10001539  Furniture   \n",
       "...          ...          ...      ...              ...        ...   \n",
       "9786    Virginia      23666.0    South  FUR-CH-10004754  Furniture   \n",
       "9787       Texas      77070.0  Central  FUR-BO-10001811  Furniture   \n",
       "9788       Texas      77070.0  Central  FUR-CH-10004063  Furniture   \n",
       "9790       Texas      77070.0  Central  FUR-CH-10001714  Furniture   \n",
       "9792       Texas      77070.0  Central  FUR-CH-10003396  Furniture   \n",
       "\n",
       "     Sub-Category                                       Product Name  \\\n",
       "0       Bookcases                  Bush Somerset Collection Bookcase   \n",
       "1          Chairs  Hon Deluxe Fabric Upholstered Stacking Chairs,...   \n",
       "3          Tables      Bretford CR4500 Series Slim Rectangular Table   \n",
       "5     Furnishings  Eldon Expressions Wood and Plastic Desk Access...   \n",
       "10         Tables           Chromcraft Rectangular Conference Tables   \n",
       "...           ...                                                ...   \n",
       "9786       Chairs                Global Stack Chair with Arms, Black   \n",
       "9787    Bookcases  Atlantic Metals Mobile 5-Shelf Bookcases, Cust...   \n",
       "9788       Chairs            Global Deluxe High-Back Manager's Chair   \n",
       "9790       Chairs     Global Leather & Oak Executive Chair, Burgundy   \n",
       "9792       Chairs                          Global Deluxe Steno Chair   \n",
       "\n",
       "          Sales  \n",
       "0      261.9600  \n",
       "1      731.9400  \n",
       "3      957.5775  \n",
       "5       48.8600  \n",
       "10    1706.1840  \n",
       "...         ...  \n",
       "9786   149.9000  \n",
       "9787  1023.3320  \n",
       "9788   600.5580  \n",
       "9790   211.2460  \n",
       "9792   107.7720  \n",
       "\n",
       "[2078 rows x 18 columns]"
      ]
     },
     "execution_count": 7,
     "metadata": {},
     "output_type": "execute_result"
    }
   ],
   "source": [
    "df_furniture"
   ]
  },
  {
   "cell_type": "code",
   "execution_count": 8,
   "id": "983f3add",
   "metadata": {},
   "outputs": [
    {
     "data": {
      "text/plain": [
       "Row ID             int64\n",
       "Order ID          object\n",
       "Order Date        object\n",
       "Ship Date         object\n",
       "Ship Mode         object\n",
       "Customer ID       object\n",
       "Customer Name     object\n",
       "Segment           object\n",
       "Country           object\n",
       "City              object\n",
       "State             object\n",
       "Postal Code      float64\n",
       "Region            object\n",
       "Product ID        object\n",
       "Category          object\n",
       "Sub-Category      object\n",
       "Product Name      object\n",
       "Sales            float64\n",
       "dtype: object"
      ]
     },
     "execution_count": 8,
     "metadata": {},
     "output_type": "execute_result"
    }
   ],
   "source": [
    "df_furniture.dtypes"
   ]
  },
  {
   "cell_type": "code",
   "execution_count": null,
   "id": "852bf293",
   "metadata": {},
   "outputs": [],
   "source": [
    "#There is no null object in the dataframe."
   ]
  },
  {
   "cell_type": "code",
   "execution_count": 34,
   "id": "e0f7b439",
   "metadata": {},
   "outputs": [
    {
     "name": "stdout",
     "output_type": "stream",
     "text": [
      "<class 'pandas.core.frame.DataFrame'>\n",
      "Int64Index: 2078 entries, 0 to 9792\n",
      "Data columns (total 18 columns):\n",
      " #   Column         Non-Null Count  Dtype  \n",
      "---  ------         --------------  -----  \n",
      " 0   Row ID         2078 non-null   int64  \n",
      " 1   Order ID       2078 non-null   object \n",
      " 2   Order Date     2078 non-null   object \n",
      " 3   Ship Date      2078 non-null   object \n",
      " 4   Ship Mode      2078 non-null   object \n",
      " 5   Customer ID    2078 non-null   object \n",
      " 6   Customer Name  2078 non-null   object \n",
      " 7   Segment        2078 non-null   object \n",
      " 8   Country        2078 non-null   object \n",
      " 9   City           2078 non-null   object \n",
      " 10  State          2078 non-null   object \n",
      " 11  Postal Code    2076 non-null   float64\n",
      " 12  Region         2078 non-null   object \n",
      " 13  Product ID     2078 non-null   object \n",
      " 14  Category       2078 non-null   object \n",
      " 15  Sub-Category   2078 non-null   object \n",
      " 16  Product Name   2078 non-null   object \n",
      " 17  Sales          2078 non-null   float64\n",
      "dtypes: float64(2), int64(1), object(15)\n",
      "memory usage: 308.5+ KB\n"
     ]
    }
   ],
   "source": [
    "df_furniture.info()"
   ]
  },
  {
   "cell_type": "code",
   "execution_count": 9,
   "id": "fc3fee7a",
   "metadata": {},
   "outputs": [],
   "source": [
    "#Typecasting date time column as datatime64\n",
    "df_furniture['Order Date']=df_furniture['Order Date'].astype({'Order Date':'datetime64'})"
   ]
  },
  {
   "cell_type": "code",
   "execution_count": 10,
   "id": "81886308",
   "metadata": {},
   "outputs": [
    {
     "data": {
      "text/plain": [
       "(Timestamp('2015-01-03 00:00:00'), Timestamp('2018-12-30 00:00:00'))"
      ]
     },
     "execution_count": 10,
     "metadata": {},
     "output_type": "execute_result"
    }
   ],
   "source": [
    "df_furniture['Order Date'].min(),df_furniture['Order Date'].max()"
   ]
  },
  {
   "cell_type": "code",
   "execution_count": 11,
   "id": "91e57bfa",
   "metadata": {},
   "outputs": [],
   "source": [
    "# So we have three years of sales data for furniture"
   ]
  },
  {
   "cell_type": "code",
   "execution_count": 12,
   "id": "ac433d75",
   "metadata": {},
   "outputs": [],
   "source": [
    "#terate Over a series of dataframe  \n",
    "months=[]\n",
    "for index,value in df_furniture['Order Date'].items():\n",
    "    \n",
    "    if value.year==2017:\n",
    "        months.append(value.month)\n",
    "        #print(value.month)"
   ]
  },
  {
   "cell_type": "code",
   "execution_count": 38,
   "id": "fd35fede",
   "metadata": {},
   "outputs": [
    {
     "name": "stdout",
     "output_type": "stream",
     "text": [
      "18.233333333333334\n"
     ]
    }
   ],
   "source": [
    "#There are different number of data for each day.\n",
    "print(len(months)/30)"
   ]
  },
  {
   "cell_type": "markdown",
   "id": "7d0927af",
   "metadata": {},
   "source": [
    "#We can take the average sales value of a month as sales value for that month."
   ]
  },
  {
   "cell_type": "code",
   "execution_count": 15,
   "id": "1936f94b",
   "metadata": {},
   "outputs": [],
   "source": [
    "required_columns=['Order Date','Sales']"
   ]
  },
  {
   "cell_type": "code",
   "execution_count": 16,
   "id": "0fe23eb8",
   "metadata": {},
   "outputs": [],
   "source": [
    "#Keeping time data and sales data in the new dataframe and named it as furniture\n",
    "furniture=df_furniture[required_columns]"
   ]
  },
  {
   "cell_type": "code",
   "execution_count": 17,
   "id": "33df4bc3",
   "metadata": {},
   "outputs": [
    {
     "data": {
      "text/plain": [
       "0      2017-08-11\n",
       "1      2017-08-11\n",
       "3      2016-11-10\n",
       "5      2015-09-06\n",
       "10     2015-09-06\n",
       "          ...    \n",
       "9786   2015-05-11\n",
       "9787   2018-03-27\n",
       "9788   2018-03-27\n",
       "9790   2018-03-27\n",
       "9792   2015-05-21\n",
       "Name: Order Date, Length: 2078, dtype: datetime64[ns]"
      ]
     },
     "execution_count": 17,
     "metadata": {},
     "output_type": "execute_result"
    }
   ],
   "source": [
    "df_furniture['Order Date']"
   ]
  },
  {
   "cell_type": "code",
   "execution_count": 18,
   "id": "9261f03a",
   "metadata": {},
   "outputs": [],
   "source": [
    "#group sales by same date by adding all the sales for the same day. And reseting index.\n",
    "furniture = furniture.groupby('Order Date')['Sales'].sum().reset_index()\n"
   ]
  },
  {
   "cell_type": "code",
   "execution_count": 19,
   "id": "73fcddea",
   "metadata": {},
   "outputs": [],
   "source": [
    "#For time series data, date time object needs to be the index.\n",
    "furniture = furniture.set_index('Order Date')\n"
   ]
  },
  {
   "cell_type": "code",
   "execution_count": 20,
   "id": "513a0ed8",
   "metadata": {},
   "outputs": [
    {
     "data": {
      "text/plain": [
       "DatetimeIndex(['2015-01-03', '2015-01-06', '2015-01-08', '2015-01-11',\n",
       "               '2015-01-12', '2015-01-13', '2015-01-14', '2015-01-16',\n",
       "               '2015-01-19', '2015-01-20',\n",
       "               ...\n",
       "               '2018-12-18', '2018-12-19', '2018-12-21', '2018-12-22',\n",
       "               '2018-12-23', '2018-12-24', '2018-12-25', '2018-12-28',\n",
       "               '2018-12-29', '2018-12-30'],\n",
       "              dtype='datetime64[ns]', name='Order Date', length=877, freq=None)"
      ]
     },
     "execution_count": 20,
     "metadata": {},
     "output_type": "execute_result"
    }
   ],
   "source": [
    "furniture.index"
   ]
  },
  {
   "cell_type": "code",
   "execution_count": 21,
   "id": "2d426531",
   "metadata": {},
   "outputs": [],
   "source": [
    "#Resampling the data by month and using the mean value\n",
    "# https://towardsdatascience.com/using-the-pandas-resample-function-a231144194c4\n",
    "data=furniture['Sales'].resample('MS').mean()"
   ]
  },
  {
   "cell_type": "code",
   "execution_count": 22,
   "id": "47132373",
   "metadata": {},
   "outputs": [
    {
     "data": {
      "text/plain": [
       "pandas.core.series.Series"
      ]
     },
     "execution_count": 22,
     "metadata": {},
     "output_type": "execute_result"
    }
   ],
   "source": [
    "type(data)"
   ]
  },
  {
   "cell_type": "code",
   "execution_count": 50,
   "id": "d060a3ea",
   "metadata": {},
   "outputs": [
    {
     "data": {
      "image/png": "[encoded data removed]",
      "text/plain": [
       "<Figure size 1440x720 with 1 Axes>"
      ]
     },
     "metadata": {},
     "output_type": "display_data"
    }
   ],
   "source": [
    "data.plot(figsize=(20,10))\n",
    "plt.show()"
   ]
  },
  {
   "cell_type": "code",
   "execution_count": 24,
   "id": "5ab2a67c",
   "metadata": {},
   "outputs": [
    {
     "data": {
      "image/png": "[encoded data removed]",
      "text/plain": [
       "<Figure size 1296x576 with 4 Axes>"
      ]
     },
     "metadata": {
      "needs_background": "light"
     },
     "output_type": "display_data"
    }
   ],
   "source": [
    "#from pylab import rcParams\n",
    "#rcParams['figure.figsize'] = 18, 8\n",
    "matplotlib.rcParams['figure.figsize']=18,8\n",
    "decomposition = sm.tsa.seasonal_decompose(data, model='additive')\n",
    "fig = decomposition.plot()\n",
    "seasonal=decomposition.seasonal\n",
    "\n",
    "plt.show()"
   ]
  },
  {
   "cell_type": "markdown",
   "id": "904b40a5",
   "metadata": {},
   "source": [
    "#  SARIMA MODEL For Sales Forecasting"
   ]
  },
  {
   "cell_type": "code",
   "execution_count": 54,
   "id": "d74b1253",
   "metadata": {},
   "outputs": [],
   "source": [
    "#defining the range for parameter values for Our ARIMA Model\n",
    "p=d=q=range(0,2)"
   ]
  },
  {
   "cell_type": "code",
   "execution_count": 56,
   "id": "dc54b013",
   "metadata": {},
   "outputs": [],
   "source": [
    "#It return the cartesian product of all the iterators passed to the product function\n",
    "pdq=list(itertools.product(p,d,q))\n"
   ]
  },
  {
   "cell_type": "code",
   "execution_count": 57,
   "id": "ef0f3ebf",
   "metadata": {},
   "outputs": [
    {
     "data": {
      "text/plain": [
       "[(0, 0, 0),\n",
       " (0, 0, 1),\n",
       " (0, 1, 0),\n",
       " (0, 1, 1),\n",
       " (1, 0, 0),\n",
       " (1, 0, 1),\n",
       " (1, 1, 0),\n",
       " (1, 1, 1)]"
      ]
     },
     "execution_count": 57,
     "metadata": {},
     "output_type": "execute_result"
    }
   ],
   "source": [
    "pdq"
   ]
  },
  {
   "cell_type": "code",
   "execution_count": 64,
   "id": "538d3364",
   "metadata": {},
   "outputs": [],
   "source": [
    "# Adding period of seasonality in the data, number of periods in each season. From the above plot( break down of season trend , and noise). We can see that data is seasonal( yearly) and since the data is monthly so number of periods in each season is 12.\n",
    "seasonal_pdq=[(x[0],x[1],x[2],12) for x in pdq]"
   ]
  },
  {
   "cell_type": "code",
   "execution_count": 26,
   "id": "99fdc81b",
   "metadata": {},
   "outputs": [
    {
     "data": {
      "text/plain": [
       "Order Date\n",
       "2015-01-01    179.574146\n",
       "2015-02-01    -20.189533\n",
       "2015-03-01   -164.634916\n",
       "2015-04-01   -242.136968\n",
       "2015-05-01    -42.218669\n",
       "2015-06-01   -201.743674\n",
       "2015-07-01   -113.296694\n",
       "2015-08-01     66.875239\n",
       "2015-09-01    218.684558\n",
       "2015-10-01    -77.631056\n",
       "2015-11-01    109.324370\n",
       "2015-12-01    287.393198\n",
       "2016-01-01    179.574146\n",
       "2016-02-01    -20.189533\n",
       "2016-03-01   -164.634916\n",
       "2016-04-01   -242.136968\n",
       "2016-05-01    -42.218669\n",
       "2016-06-01   -201.743674\n",
       "2016-07-01   -113.296694\n",
       "2016-08-01     66.875239\n",
       "2016-09-01    218.684558\n",
       "2016-10-01    -77.631056\n",
       "2016-11-01    109.324370\n",
       "2016-12-01    287.393198\n",
       "2017-01-01    179.574146\n",
       "2017-02-01    -20.189533\n",
       "2017-03-01   -164.634916\n",
       "2017-04-01   -242.136968\n",
       "2017-05-01    -42.218669\n",
       "2017-06-01   -201.743674\n",
       "2017-07-01   -113.296694\n",
       "2017-08-01     66.875239\n",
       "2017-09-01    218.684558\n",
       "2017-10-01    -77.631056\n",
       "2017-11-01    109.324370\n",
       "2017-12-01    287.393198\n",
       "2018-01-01    179.574146\n",
       "2018-02-01    -20.189533\n",
       "2018-03-01   -164.634916\n",
       "2018-04-01   -242.136968\n",
       "2018-05-01    -42.218669\n",
       "2018-06-01   -201.743674\n",
       "2018-07-01   -113.296694\n",
       "2018-08-01     66.875239\n",
       "2018-09-01    218.684558\n",
       "2018-10-01    -77.631056\n",
       "2018-11-01    109.324370\n",
       "2018-12-01    287.393198\n",
       "Freq: MS, Name: seasonal, dtype: float64"
      ]
     },
     "execution_count": 26,
     "metadata": {},
     "output_type": "execute_result"
    }
   ],
   "source": [
    "seasonal"
   ]
  },
  {
   "cell_type": "code",
   "execution_count": null,
   "id": "5b1469f9",
   "metadata": {},
   "outputs": [],
   "source": []
  },
  {
   "cell_type": "code",
   "execution_count": 65,
   "id": "aaea5d8b",
   "metadata": {},
   "outputs": [
    {
     "data": {
      "text/plain": [
       "[(0, 0, 0, 12),\n",
       " (0, 0, 1, 12),\n",
       " (0, 1, 0, 12),\n",
       " (0, 1, 1, 12),\n",
       " (1, 0, 0, 12),\n",
       " (1, 0, 1, 12),\n",
       " (1, 1, 0, 12),\n",
       " (1, 1, 1, 12)]"
      ]
     },
     "execution_count": 65,
     "metadata": {},
     "output_type": "execute_result"
    }
   ],
   "source": [
    "seasonal_pdq"
   ]
  },
  {
   "cell_type": "code",
   "execution_count": 29,
   "id": "4ac624fc",
   "metadata": {},
   "outputs": [
    {
     "name": "stdout",
     "output_type": "stream",
     "text": [
      "\n",
      "Statistics analysis\n",
      "\n",
      "Statistic Test :  -4.397169903637623\n",
      "p-value :  0.0003002746491274642\n",
      "# n_lags :  4\n",
      "No of observation:  43\n",
      " critical value 1% : -3.5925042342183704\n",
      " critical value 5% : -2.931549768951162\n",
      " critical value 10% : -2.60406594375338\n"
     ]
    }
   ],
   "source": [
    "#Checking for stationarity of time series using adfuller test\n",
    "from statsmodels.tsa.stattools import adfuller\n",
    "# import numpy as np\n",
    "# dftest = adfuller(seasonal)\n",
    "# adf = dftest[0]\n",
    "# pvalue = dftest[1]\n",
    "# critical_value = dftest[4]['5%']\n",
    "# if (pvalue < 0.05) and (adf < critical_value):\n",
    "#     print(\"Pvalue is: \"+ str(pvalue)+ 'The series is stationary')\n",
    "# else:\n",
    "#     print('The series is NOT stationary')\n",
    "adf = adfuller(data,12)\n",
    "print(\"\\nStatistics analysis\\n\")\n",
    "print(\"Statistic Test : \" , adf[0])\n",
    "print(\"p-value : \" , adf[1])\n",
    "print(\"# n_lags : \" , adf[2])\n",
    "print(\"No of observation: \" , adf[3])\n",
    "for key,value in adf[4].items():\n",
    "    print(f\" critical value {key} : {value}\")    \n",
    "    \n",
    "    "
   ]
  },
  {
   "cell_type": "code",
   "execution_count": 68,
   "id": "460ec930",
   "metadata": {},
   "outputs": [],
   "source": [
    "# Test shows that time series is stationary, but from the plot of time series we can see that there is some seasonality in the data."
   ]
  },
  {
   "cell_type": "code",
   "execution_count": 30,
   "id": "d295c3b5",
   "metadata": {},
   "outputs": [
    {
     "data": {
      "image/png": "[encoded data removed]",
      "text/plain": [
       "<Figure size 1296x576 with 1 Axes>"
      ]
     },
     "metadata": {
      "needs_background": "light"
     },
     "output_type": "display_data"
    }
   ],
   "source": [
    "from statsmodels.graphics.tsaplots import plot_acf, plot_pacf\n",
    "plot_pacf(seasonal, lags =4)\n",
    "plt.show()"
   ]
  },
  {
   "cell_type": "code",
   "execution_count": null,
   "id": "72c44586",
   "metadata": {},
   "outputs": [],
   "source": [
    "# ADF Test before differencing\n",
    "\n",
    "from statsmodels.tsa.stattools import adfuller \n",
    "df_resample = df.resample('M').sum()\n"
   ]
  }
 ],
 "metadata": {
  "kernelspec": {
   "display_name": "Python 3",
   "language": "python",
   "name": "python3"
  },
  "language_info": {
   "codemirror_mode": {
    "name": "ipython",
    "version": 3
   },
   "file_extension": ".py",
   "mimetype": "text/x-python",
   "name": "python",
   "nbconvert_exporter": "python",
   "pygments_lexer": "ipython3",
   "version": "3.8.8"
  }
 },
 "nbformat": 4,
 "nbformat_minor": 5
}
